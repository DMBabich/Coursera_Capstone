{
 "cells": [
  {
   "cell_type": "markdown",
   "metadata": {},
   "source": [
    "# __Capstone Project - Final Report__"
   ]
  },
  {
   "cell_type": "markdown",
   "metadata": {},
   "source": [
    "__In this notebook we will be exploring city of Prague for new gym.__"
   ]
  },
  {
   "cell_type": "markdown",
   "metadata": {},
   "source": [
    " "
   ]
  },
  {
   "cell_type": "markdown",
   "metadata": {},
   "source": [
    "## __Introduction:__"
   ]
  },
  {
   "cell_type": "markdown",
   "metadata": {},
   "source": [
    "We want to open a new gym in Prague. For this business to be successful, we must find a good place. We will use Foursquare's data to determine which administrative district in Prague is opening gyms. This is necessary in order to try to find the administrative area with the least number of gyms."
   ]
  },
  {
   "cell_type": "markdown",
   "metadata": {},
   "source": [
    " "
   ]
  },
  {
   "cell_type": "markdown",
   "metadata": {},
   "source": [
    "## __Business problem:__"
   ]
  },
  {
   "cell_type": "markdown",
   "metadata": {},
   "source": [
    "Prague is the capital of the Czech Republic.\n",
    "<br>Population: 1.3 million (2018).\n",
    "<br>The main political, economic and cultural center of the Czech Republic. A major tourist center in Europe.\n",
    "<br>Moreover, the city has a compact size. Only 500 square kilometers.\n",
    "\n",
    "\n",
    "The dense city life leads to the emergence of bad habits: alcohol, unhealthy food, constant work sitting, laziness to train at home. And this has a negative effect on health. Nowadays, many people are forced to limit themselves to visiting sports grounds. The pandemic will not last forever (I hope), which means that people will again start visiting sports grounds and playing sports. Now is the time to think about your investment in sports. Namely, in which district of Prague you can open a new gym.\n",
    "\n",
    "__Target audience:__ New Business who wants to open a new gym in Prague."
   ]
  },
  {
   "cell_type": "markdown",
   "metadata": {},
   "source": [
    " "
   ]
  },
  {
   "cell_type": "markdown",
   "metadata": {},
   "source": [
    "## __Data__"
   ]
  },
  {
   "cell_type": "markdown",
   "metadata": {},
   "source": [
    "Using data from the Foursquare Places API, we will determine in which area the new gym in Prague can be built.\n",
    "The same analysis as with gyms can be done for any type of business.\n",
    "And:\n",
    "* List of administrative districts of Prague as neighborhoods. Since we are considering only one city, we do not need extra data.\n",
    "* Latitude and longitude coordinates all areas. Required for building a map and obtaining data.\n",
    "* Gym location data. Will be used for clustering"
   ]
  },
  {
   "cell_type": "markdown",
   "metadata": {},
   "source": [
    "We use the following data:\n",
    "* Wikipage with table - [link](https://en.wikipedia.org/wiki/Districts_of_Prague)\n",
    "* Foursquare - [link](https://developer.foursquare.com/docs/)"
   ]
  },
  {
   "cell_type": "markdown",
   "metadata": {},
   "source": [
    " "
   ]
  },
  {
   "cell_type": "markdown",
   "metadata": {},
   "source": [
    "## __Methodology__"
   ]
  },
  {
   "cell_type": "markdown",
   "metadata": {},
   "source": [
    "First, __we need to get a list of districts in Prague, Czech Republic__. The table is on the next Wikipedia page: [Prague District](https://en.wikipedia.org/wiki/Districts_of_Prague).\n",
    "\n",
    "We will parse the web page using the following Python libraries:\n",
    "- request\n",
    "- beautiful soup\n",
    "\n",
    "We need to extract the list of administrative districts of Prague. Then write this to a dataframe using the Pandas library.\n",
    "\n",
    "\n",
    "Secondly, __we need to get the coordinates of the found administrative districts__.\n",
    "To do this, we will use the geocoder library. The geocoder provides latitude and longitude data for each administrative region.\n",
    "Using a geocoder, you first need to find the center of Prague. We get the following coordinates: latitude 50.0864234 and longitude 14.4156772. This is necessary for orientation in the data. You need to be sure that the administrative districts are located near the city center.\n",
    "Then we find the coordinates of all districts of Prague using the geoinformation program ArcGIS from the geocoder library.\n",
    "\n",
    "\n",
    "Let's __create a map of Prague and mark the centers of the administrative districts on it__. For this we need coordinates and the Folium library. Folium is used for spatial visualization and analysis. It has a lot of functionality, but we will use: binding to real geographic data and placing points on the map by coordinates.\n",
    "\n",
    "We then __use the Foursquare API to explore neighborhoods and segmentation__. Let's set a standard limit of 100 and a radius of 500 meters. In this study, we will look at the central part of Prague. The request must include a \"gym\". Having received all the necessary data from the request from the Foursqare API, we create a dataframe from the available data.\n",
    "We will also create a word cloud that includes the entire list of names. The most popular headwords are fitness, studio and gym.\n",
    "\n",
    "\n",
    "__Let's start analyzing each area.__\n",
    "For this we will use the onehot encoding. It works like this: each category for the district is preceded by a 1 if that category is included in the district. Otherwise 0 is set. Also note the number of unique categories in the data frame. According to Foresquare, there are several categories within the Gym / Fitness category. You need to remove unnecessary data and group the data by the \"neighborhood\" column.\n",
    "Let's find the 5 most visited places from our dataframe for each district and combine them all into one table.\n",
    "\n",
    "\n",
    "__Finally, let's group the data__. The K-Means method will help us with this.\n",
    "The K-Means Clustering Algorithm determines k centroids and then distributes each data point to the nearest cluster while keeping the centroids as small as possible. It is one of the popular and simple machine learning algorithms. For this we use the sklearn library. Since we have a small amount of data, we use 4 clusters. We render them using the Folium library. Also, to understand the data, it is necessary to display the results of data clustering. This will help us make a decision.\n"
   ]
  },
  {
   "cell_type": "markdown",
   "metadata": {},
   "source": [
    " "
   ]
  },
  {
   "cell_type": "markdown",
   "metadata": {},
   "source": [
    "## __Result and Discussion__"
   ]
  },
  {
   "cell_type": "markdown",
   "metadata": {},
   "source": [
    "Our research shows that despite the small number of gyms in Prague, there are areas with low or no gym density, quite close to the city center. We have 17 districts with a gym and 5 districts without a gym within a radius of 500 meters from the center of Prague with geographic coordinates 50.0864234 latitude and 14.4156772 longitude.\n",
    "\n",
    "The best solution would be to open a new gym in districts that don't have one at all. Prague is divided into 22 districts and as many as 5 in the city center do not have a gym.\n",
    "It is also a good choice to consider those districts in which gyms are in small quantities and they are among the most visited places. Since a small number of gyms are visited by a large number of clients interested in visiting gyms, the opening of a new modern gym will definitely attract clients.\n",
    "\n",
    "There may be some reason for the lack of gyms in these districts despite the lack of competition. Therefore, the recommended areas should only be considered as a starting point for more detailed analysis. A relatively small search radius was also used. Larger radius will give more results."
   ]
  },
  {
   "cell_type": "markdown",
   "metadata": {},
   "source": [
    " "
   ]
  },
  {
   "cell_type": "markdown",
   "metadata": {},
   "source": [
    "## __Conclusion__"
   ]
  },
  {
   "cell_type": "markdown",
   "metadata": {},
   "source": [
    "In this study, we modeled the distribution of gyms in Prague using data from geographic locations and the Foresquare API. Using clustering and the K-Means method, we were able to find the best location for the new gym. This can help a budding gym owner choose where to start their business. According to research, the best solution would be areas that do not have a gym.\n",
    "\n",
    "This work is for informational purposes only, as we do not have most of the data. For example, visit and prices at the gym. The study also used a small radius of 500 meters. This study is more suitable for the central area of ​​Prague."
   ]
  }
 ],
 "metadata": {
  "kernelspec": {
   "display_name": "Python 3",
   "language": "python",
   "name": "python3"
  },
  "language_info": {
   "codemirror_mode": {
    "name": "ipython",
    "version": 3
   },
   "file_extension": ".py",
   "mimetype": "text/x-python",
   "name": "python",
   "nbconvert_exporter": "python",
   "pygments_lexer": "ipython3",
   "version": "3.7.6"
  }
 },
 "nbformat": 4,
 "nbformat_minor": 4
}
