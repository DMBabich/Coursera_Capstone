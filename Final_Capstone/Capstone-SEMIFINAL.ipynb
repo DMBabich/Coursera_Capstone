{
 "cells": [
  {
   "cell_type": "markdown",
   "metadata": {},
   "source": [
    "# Capstone Project - Semifinal"
   ]
  },
  {
   "cell_type": "markdown",
   "metadata": {},
   "source": [
    "__In this notebook we will be exploring city of Prague for new gym.__"
   ]
  },
  {
   "cell_type": "markdown",
   "metadata": {},
   "source": [
    " "
   ]
  },
  {
   "cell_type": "markdown",
   "metadata": {},
   "source": [
    "## Introduction:"
   ]
  },
  {
   "cell_type": "markdown",
   "metadata": {},
   "source": [
    "We want to open a new gym in Prague. For this business to be successful, we must find a good place. We will use Foursquare's data to determine which administrative district in Prague is opening gyms. This is necessary in order to try to find the administrative area with the least number of gyms."
   ]
  },
  {
   "cell_type": "markdown",
   "metadata": {},
   "source": [
    " "
   ]
  },
  {
   "cell_type": "markdown",
   "metadata": {},
   "source": [
    "## Business problem:"
   ]
  },
  {
   "cell_type": "markdown",
   "metadata": {},
   "source": [
    "Prague is the capital of the Czech Republic.\n",
    "<br>Population: 1.3 million (2018).\n",
    "<br>The main political, economic and cultural center of the Czech Republic. A major tourist center in Europe.\n",
    "<br>Moreover, the city has a compact size. Only 500 square kilometers.\n",
    "\n",
    "\n",
    "The dense city life leads to the emergence of bad habits: alcohol, unhealthy food, constant work sitting, laziness to train at home. And this has a negative effect on health. Nowadays, many people are forced to limit themselves to visiting sports grounds. The pandemic will not last forever (I hope), which means that people will again start visiting sports grounds and playing sports. Now is the time to think about your investment in sports. Namely, in which district of Prague you can open a new gym.\n",
    "\n",
    "__Target auduince:__ New Business who wants to open a new gym in Prague."
   ]
  },
  {
   "cell_type": "markdown",
   "metadata": {},
   "source": [
    " "
   ]
  },
  {
   "cell_type": "markdown",
   "metadata": {},
   "source": [
    "## Solve (Data in future project)"
   ]
  },
  {
   "cell_type": "markdown",
   "metadata": {},
   "source": [
    "Using data from the Foursquare Places API, we will determine in which area the new gym in Prague can be built.\n",
    "The same analysis as with gyms can be done for any type of business.\n",
    "And:\n",
    "* List of administrative districts of Prague as neighborhoods. Since we are considering only one city, we do not need extra data.\n",
    "* Latitude and longitude coordinates all areas. Required for building a map and obtaining data.\n",
    "* Gym location data. Will be used for clustering"
   ]
  },
  {
   "cell_type": "code",
   "execution_count": null,
   "metadata": {},
   "outputs": [],
   "source": []
  }
 ],
 "metadata": {
  "kernelspec": {
   "display_name": "Python 3",
   "language": "python",
   "name": "python3"
  },
  "language_info": {
   "codemirror_mode": {
    "name": "ipython",
    "version": 3
   },
   "file_extension": ".py",
   "mimetype": "text/x-python",
   "name": "python",
   "nbconvert_exporter": "python",
   "pygments_lexer": "ipython3",
   "version": "3.7.6"
  }
 },
 "nbformat": 4,
 "nbformat_minor": 4
}
