{
 "cells": [
  {
   "cell_type": "markdown",
   "metadata": {},
   "source": [
    "попробую получить инфу с форсквар. Будет ли что-то\n",
    "\n",
    "\n",
    "__Мне кажется надо брать иностранную структуру. Так как она структурирована__"
   ]
  },
  {
   "cell_type": "code",
   "execution_count": 1,
   "metadata": {},
   "outputs": [],
   "source": [
    "import pandas as pd\n",
    "import requests\n",
    "from bs4 import BeautifulSoup"
   ]
  },
  {
   "cell_type": "code",
   "execution_count": 2,
   "metadata": {},
   "outputs": [],
   "source": [
    "url = 'https://en.wikipedia.org/wiki/Districts_of_Prague'"
   ]
  },
  {
   "cell_type": "code",
   "execution_count": 3,
   "metadata": {},
   "outputs": [],
   "source": [
    "data = requests.get(url).text"
   ]
  },
  {
   "cell_type": "code",
   "execution_count": 4,
   "metadata": {},
   "outputs": [],
   "source": [
    "soup = BeautifulSoup(data, 'html.parser')\n",
    "nieghborhood = []"
   ]
  },
  {
   "cell_type": "markdown",
   "metadata": {},
   "source": [
    "<table class=\"wikitable\">\n",
    "<tbody><tr>\n",
    "<th>Municipal district</th>\n",
    "<th>Administrative district</th>\n",
    "<th>Municipal parts\n",
    "</th></tr>\n",
    "<tr>\n",
    "<td>Prague 1</td>\n",
    "<td><a href=\"/wiki/Prague_1\" title=\"Prague 1\">Prague 1</a></td>\n",
    "<td>Prague 1\n",
    "</td></tr>\n",
    "<tr>\n",
    "<td>Prague 2</td>\n",
    "<td><a href=\"/wiki/Prague_2\" title=\"Prague 2\">Prague 2</a></td>\n",
    "<td>Prague 2"
   ]
  },
  {
   "cell_type": "code",
   "execution_count": 5,
   "metadata": {},
   "outputs": [],
   "source": [
    "my_table = soup.find('table',{'class':'wikitable'})"
   ]
  },
  {
   "cell_type": "markdown",
   "metadata": {},
   "source": [
    "mun_distr = []\n",
    "for tr in my_table.find_all('tr'):\n",
    "    row_data=[]\n",
    "    for td in tr.find_all('td'):\n",
    "        row_data.append(td.text.strip())\n",
    "    if len(row_data)==3:\n",
    "        mun_distr.append(row_data[0])"
   ]
  },
  {
   "cell_type": "markdown",
   "metadata": {},
   "source": [
    "df = pd.DataFrame(mun_distr, columns=['Municipal district'])"
   ]
  },
  {
   "cell_type": "markdown",
   "metadata": {},
   "source": [
    "df"
   ]
  },
  {
   "cell_type": "code",
   "execution_count": 6,
   "metadata": {},
   "outputs": [
    {
     "data": {
      "text/plain": [
       "['Prague 1',\n",
       " 'Prague 2',\n",
       " 'Prague 3',\n",
       " 'Prague 4',\n",
       " 'Prague 11',\n",
       " 'Prague 12',\n",
       " 'Prague 5',\n",
       " 'Prague 13',\n",
       " 'Prague 16',\n",
       " 'Prague 17',\n",
       " 'Prague 6',\n",
       " 'Prague 17',\n",
       " 'Prague 7',\n",
       " 'Prague 8',\n",
       " 'Prague 9',\n",
       " 'Prague 14',\n",
       " 'Prague 18',\n",
       " 'Prague 19',\n",
       " 'Prague 20',\n",
       " 'Prague 21',\n",
       " 'Prague 10',\n",
       " 'Prague 11',\n",
       " 'Prague 15',\n",
       " 'Prague 22']"
      ]
     },
     "execution_count": 6,
     "metadata": {},
     "output_type": "execute_result"
    }
   ],
   "source": [
    "#administrative\n",
    "adm_distr = []\n",
    "for tr in my_table.find_all('tr'):\n",
    "    row_data=[]\n",
    "    for a in tr.find_all('a'):\n",
    "        row_data.append(a.text)\n",
    "    #print('row:\\n', row_data, '\\n')\n",
    "    if len(row_data)==0:\n",
    "        continue\n",
    "    else:\n",
    "        adm_distr.append(row_data[0])\n",
    "        \n",
    "        \n",
    "#adm_distr"
   ]
  },
  {
   "cell_type": "code",
   "execution_count": 7,
   "metadata": {},
   "outputs": [],
   "source": [
    "distr_df = pd.DataFrame(adm_distr, columns=['Administrative district'])"
   ]
  },
  {
   "cell_type": "code",
   "execution_count": 8,
   "metadata": {},
   "outputs": [],
   "source": [
    "distr_df = distr_df.drop_duplicates()"
   ]
  },
  {
   "cell_type": "code",
   "execution_count": 9,
   "metadata": {},
   "outputs": [],
   "source": [
    "distr_df = distr_df.reset_index(drop=True)"
   ]
  },
  {
   "cell_type": "code",
   "execution_count": 10,
   "metadata": {},
   "outputs": [
    {
     "data": {
      "text/html": [
       "<div>\n",
       "<style scoped>\n",
       "    .dataframe tbody tr th:only-of-type {\n",
       "        vertical-align: middle;\n",
       "    }\n",
       "\n",
       "    .dataframe tbody tr th {\n",
       "        vertical-align: top;\n",
       "    }\n",
       "\n",
       "    .dataframe thead th {\n",
       "        text-align: right;\n",
       "    }\n",
       "</style>\n",
       "<table border=\"1\" class=\"dataframe\">\n",
       "  <thead>\n",
       "    <tr style=\"text-align: right;\">\n",
       "      <th></th>\n",
       "      <th>Administrative district</th>\n",
       "    </tr>\n",
       "  </thead>\n",
       "  <tbody>\n",
       "    <tr>\n",
       "      <th>0</th>\n",
       "      <td>Prague 1</td>\n",
       "    </tr>\n",
       "    <tr>\n",
       "      <th>1</th>\n",
       "      <td>Prague 2</td>\n",
       "    </tr>\n",
       "    <tr>\n",
       "      <th>2</th>\n",
       "      <td>Prague 3</td>\n",
       "    </tr>\n",
       "    <tr>\n",
       "      <th>3</th>\n",
       "      <td>Prague 4</td>\n",
       "    </tr>\n",
       "    <tr>\n",
       "      <th>4</th>\n",
       "      <td>Prague 11</td>\n",
       "    </tr>\n",
       "    <tr>\n",
       "      <th>5</th>\n",
       "      <td>Prague 12</td>\n",
       "    </tr>\n",
       "    <tr>\n",
       "      <th>6</th>\n",
       "      <td>Prague 5</td>\n",
       "    </tr>\n",
       "    <tr>\n",
       "      <th>7</th>\n",
       "      <td>Prague 13</td>\n",
       "    </tr>\n",
       "    <tr>\n",
       "      <th>8</th>\n",
       "      <td>Prague 16</td>\n",
       "    </tr>\n",
       "    <tr>\n",
       "      <th>9</th>\n",
       "      <td>Prague 17</td>\n",
       "    </tr>\n",
       "    <tr>\n",
       "      <th>10</th>\n",
       "      <td>Prague 6</td>\n",
       "    </tr>\n",
       "    <tr>\n",
       "      <th>11</th>\n",
       "      <td>Prague 7</td>\n",
       "    </tr>\n",
       "    <tr>\n",
       "      <th>12</th>\n",
       "      <td>Prague 8</td>\n",
       "    </tr>\n",
       "    <tr>\n",
       "      <th>13</th>\n",
       "      <td>Prague 9</td>\n",
       "    </tr>\n",
       "    <tr>\n",
       "      <th>14</th>\n",
       "      <td>Prague 14</td>\n",
       "    </tr>\n",
       "    <tr>\n",
       "      <th>15</th>\n",
       "      <td>Prague 18</td>\n",
       "    </tr>\n",
       "    <tr>\n",
       "      <th>16</th>\n",
       "      <td>Prague 19</td>\n",
       "    </tr>\n",
       "    <tr>\n",
       "      <th>17</th>\n",
       "      <td>Prague 20</td>\n",
       "    </tr>\n",
       "    <tr>\n",
       "      <th>18</th>\n",
       "      <td>Prague 21</td>\n",
       "    </tr>\n",
       "    <tr>\n",
       "      <th>19</th>\n",
       "      <td>Prague 10</td>\n",
       "    </tr>\n",
       "    <tr>\n",
       "      <th>20</th>\n",
       "      <td>Prague 15</td>\n",
       "    </tr>\n",
       "    <tr>\n",
       "      <th>21</th>\n",
       "      <td>Prague 22</td>\n",
       "    </tr>\n",
       "  </tbody>\n",
       "</table>\n",
       "</div>"
      ],
      "text/plain": [
       "   Administrative district\n",
       "0                 Prague 1\n",
       "1                 Prague 2\n",
       "2                 Prague 3\n",
       "3                 Prague 4\n",
       "4                Prague 11\n",
       "5                Prague 12\n",
       "6                 Prague 5\n",
       "7                Prague 13\n",
       "8                Prague 16\n",
       "9                Prague 17\n",
       "10                Prague 6\n",
       "11                Prague 7\n",
       "12                Prague 8\n",
       "13                Prague 9\n",
       "14               Prague 14\n",
       "15               Prague 18\n",
       "16               Prague 19\n",
       "17               Prague 20\n",
       "18               Prague 21\n",
       "19               Prague 10\n",
       "20               Prague 15\n",
       "21               Prague 22"
      ]
     },
     "execution_count": 10,
     "metadata": {},
     "output_type": "execute_result"
    }
   ],
   "source": [
    "distr_df"
   ]
  },
  {
   "cell_type": "code",
   "execution_count": 11,
   "metadata": {},
   "outputs": [
    {
     "data": {
      "text/plain": [
       "(22, 1)"
      ]
     },
     "execution_count": 11,
     "metadata": {},
     "output_type": "execute_result"
    }
   ],
   "source": [
    "distr_df.shape"
   ]
  },
  {
   "cell_type": "code",
   "execution_count": 12,
   "metadata": {},
   "outputs": [
    {
     "name": "stdout",
     "output_type": "stream",
     "text": [
      "Libraries imported.\n"
     ]
    }
   ],
   "source": [
    "import numpy as np # library to handle data in a vectorized manner\n",
    "pd.set_option('display.max_columns', None)\n",
    "pd.set_option('display.max_rows', None)\n",
    "import json # library to handle JSON files\n",
    "from geopy.geocoders import Nominatim # convert an address into latitude and longitude values\n",
    "from pandas.io.json import json_normalize # tranform JSON file into a pandas dataframe\n",
    "\n",
    "# Matplotlib and associated plotting modules\n",
    "import matplotlib.cm as cm\n",
    "import matplotlib.colors as colors\n",
    "\n",
    "# import k-means from clustering stage\n",
    "from sklearn.cluster import KMeans\n",
    "\n",
    "#!conda install -c conda-forge folium=0.5.0 --yes # uncomment this line if you haven't completed the Foursquare API lab\n",
    "import folium # map rendering library\n",
    "import geocoder\n",
    "\n",
    "print('Libraries imported.')"
   ]
  },
  {
   "cell_type": "code",
   "execution_count": 13,
   "metadata": {},
   "outputs": [
    {
     "name": "stdout",
     "output_type": "stream",
     "text": [
      "The geograpical coordinate of rome are 50.0864234, 14.4156772.\n"
     ]
    }
   ],
   "source": [
    "address = 'prague, czech'\n",
    "\n",
    "geolocator = Nominatim(user_agent=\"can_explorer\")\n",
    "location = geolocator.geocode(address)\n",
    "latitude = location.latitude\n",
    "longitude = location.longitude\n",
    "print('The geograpical coordinate of rome are {}, {}.'.format(latitude, longitude))"
   ]
  },
  {
   "cell_type": "code",
   "execution_count": 17,
   "metadata": {},
   "outputs": [],
   "source": [
    "#get_coord each district\n",
    "long = []\n",
    "latit = []\n",
    "for district in distr_df['Administrative district'].to_list():\n",
    "    \n",
    "    # initialize your variable to None\n",
    "    lat_lng_coords = None\n",
    "\n",
    "    # loop until you get the coordinates\n",
    "    while(lat_lng_coords is None):\n",
    "      g = geocoder.arcgis('{}, Prague, Czech'.format(district))\n",
    "      lat_lng_coords = g.latlng\n",
    "\n",
    "    latitude = lat_lng_coords[0]\n",
    "    longitude = lat_lng_coords[1]\n",
    "    \n",
    "    latit.append(latitude)\n",
    "    long.append(longitude)"
   ]
  },
  {
   "cell_type": "code",
   "execution_count": 18,
   "metadata": {},
   "outputs": [],
   "source": [
    "#merge\n",
    "distr_df['Latitude'] = pd.DataFrame(latit)\n",
    "distr_df['Longitude'] = pd.DataFrame(long)"
   ]
  },
  {
   "cell_type": "code",
   "execution_count": 19,
   "metadata": {},
   "outputs": [
    {
     "data": {
      "text/html": [
       "<div>\n",
       "<style scoped>\n",
       "    .dataframe tbody tr th:only-of-type {\n",
       "        vertical-align: middle;\n",
       "    }\n",
       "\n",
       "    .dataframe tbody tr th {\n",
       "        vertical-align: top;\n",
       "    }\n",
       "\n",
       "    .dataframe thead th {\n",
       "        text-align: right;\n",
       "    }\n",
       "</style>\n",
       "<table border=\"1\" class=\"dataframe\">\n",
       "  <thead>\n",
       "    <tr style=\"text-align: right;\">\n",
       "      <th></th>\n",
       "      <th>Administrative district</th>\n",
       "      <th>Latitude</th>\n",
       "      <th>Longitude</th>\n",
       "    </tr>\n",
       "  </thead>\n",
       "  <tbody>\n",
       "    <tr>\n",
       "      <th>0</th>\n",
       "      <td>Prague 1</td>\n",
       "      <td>50.08728</td>\n",
       "      <td>14.41742</td>\n",
       "    </tr>\n",
       "    <tr>\n",
       "      <th>1</th>\n",
       "      <td>Prague 2</td>\n",
       "      <td>50.07394</td>\n",
       "      <td>14.43956</td>\n",
       "    </tr>\n",
       "    <tr>\n",
       "      <th>2</th>\n",
       "      <td>Prague 3</td>\n",
       "      <td>50.08260</td>\n",
       "      <td>14.45537</td>\n",
       "    </tr>\n",
       "    <tr>\n",
       "      <th>3</th>\n",
       "      <td>Prague 4</td>\n",
       "      <td>50.04232</td>\n",
       "      <td>14.44812</td>\n",
       "    </tr>\n",
       "    <tr>\n",
       "      <th>4</th>\n",
       "      <td>Prague 11</td>\n",
       "      <td>50.03094</td>\n",
       "      <td>14.52406</td>\n",
       "    </tr>\n",
       "    <tr>\n",
       "      <th>5</th>\n",
       "      <td>Prague 12</td>\n",
       "      <td>50.00201</td>\n",
       "      <td>14.41810</td>\n",
       "    </tr>\n",
       "    <tr>\n",
       "      <th>6</th>\n",
       "      <td>Prague 5</td>\n",
       "      <td>50.07167</td>\n",
       "      <td>14.40098</td>\n",
       "    </tr>\n",
       "    <tr>\n",
       "      <th>7</th>\n",
       "      <td>Prague 13</td>\n",
       "      <td>50.04925</td>\n",
       "      <td>14.33801</td>\n",
       "    </tr>\n",
       "    <tr>\n",
       "      <th>8</th>\n",
       "      <td>Prague 16</td>\n",
       "      <td>49.98318</td>\n",
       "      <td>14.36187</td>\n",
       "    </tr>\n",
       "    <tr>\n",
       "      <th>9</th>\n",
       "      <td>Prague 17</td>\n",
       "      <td>50.07297</td>\n",
       "      <td>14.30813</td>\n",
       "    </tr>\n",
       "    <tr>\n",
       "      <th>10</th>\n",
       "      <td>Prague 6</td>\n",
       "      <td>50.10106</td>\n",
       "      <td>14.39981</td>\n",
       "    </tr>\n",
       "    <tr>\n",
       "      <th>11</th>\n",
       "      <td>Prague 7</td>\n",
       "      <td>50.10800</td>\n",
       "      <td>14.43797</td>\n",
       "    </tr>\n",
       "    <tr>\n",
       "      <th>12</th>\n",
       "      <td>Prague 8</td>\n",
       "      <td>50.12692</td>\n",
       "      <td>14.45672</td>\n",
       "    </tr>\n",
       "    <tr>\n",
       "      <th>13</th>\n",
       "      <td>Prague 9</td>\n",
       "      <td>50.11058</td>\n",
       "      <td>14.50034</td>\n",
       "    </tr>\n",
       "    <tr>\n",
       "      <th>14</th>\n",
       "      <td>Prague 14</td>\n",
       "      <td>50.10054</td>\n",
       "      <td>14.55486</td>\n",
       "    </tr>\n",
       "    <tr>\n",
       "      <th>15</th>\n",
       "      <td>Prague 18</td>\n",
       "      <td>50.15175</td>\n",
       "      <td>14.52394</td>\n",
       "    </tr>\n",
       "    <tr>\n",
       "      <th>16</th>\n",
       "      <td>Prague 19</td>\n",
       "      <td>50.13372</td>\n",
       "      <td>14.54743</td>\n",
       "    </tr>\n",
       "    <tr>\n",
       "      <th>17</th>\n",
       "      <td>Prague 20</td>\n",
       "      <td>50.11533</td>\n",
       "      <td>14.61252</td>\n",
       "    </tr>\n",
       "    <tr>\n",
       "      <th>18</th>\n",
       "      <td>Prague 21</td>\n",
       "      <td>50.07715</td>\n",
       "      <td>14.66000</td>\n",
       "    </tr>\n",
       "    <tr>\n",
       "      <th>19</th>\n",
       "      <td>Prague 10</td>\n",
       "      <td>50.06762</td>\n",
       "      <td>14.46016</td>\n",
       "    </tr>\n",
       "    <tr>\n",
       "      <th>20</th>\n",
       "      <td>Prague 15</td>\n",
       "      <td>50.04703</td>\n",
       "      <td>14.55586</td>\n",
       "    </tr>\n",
       "    <tr>\n",
       "      <th>21</th>\n",
       "      <td>Prague 22</td>\n",
       "      <td>50.03129</td>\n",
       "      <td>14.59919</td>\n",
       "    </tr>\n",
       "  </tbody>\n",
       "</table>\n",
       "</div>"
      ],
      "text/plain": [
       "   Administrative district  Latitude  Longitude\n",
       "0                 Prague 1  50.08728   14.41742\n",
       "1                 Prague 2  50.07394   14.43956\n",
       "2                 Prague 3  50.08260   14.45537\n",
       "3                 Prague 4  50.04232   14.44812\n",
       "4                Prague 11  50.03094   14.52406\n",
       "5                Prague 12  50.00201   14.41810\n",
       "6                 Prague 5  50.07167   14.40098\n",
       "7                Prague 13  50.04925   14.33801\n",
       "8                Prague 16  49.98318   14.36187\n",
       "9                Prague 17  50.07297   14.30813\n",
       "10                Prague 6  50.10106   14.39981\n",
       "11                Prague 7  50.10800   14.43797\n",
       "12                Prague 8  50.12692   14.45672\n",
       "13                Prague 9  50.11058   14.50034\n",
       "14               Prague 14  50.10054   14.55486\n",
       "15               Prague 18  50.15175   14.52394\n",
       "16               Prague 19  50.13372   14.54743\n",
       "17               Prague 20  50.11533   14.61252\n",
       "18               Prague 21  50.07715   14.66000\n",
       "19               Prague 10  50.06762   14.46016\n",
       "20               Prague 15  50.04703   14.55586\n",
       "21               Prague 22  50.03129   14.59919"
      ]
     },
     "execution_count": 19,
     "metadata": {},
     "output_type": "execute_result"
    }
   ],
   "source": [
    "distr_df"
   ]
  },
  {
   "cell_type": "code",
   "execution_count": null,
   "metadata": {},
   "outputs": [],
   "source": []
  },
  {
   "cell_type": "code",
   "execution_count": null,
   "metadata": {},
   "outputs": [],
   "source": []
  },
  {
   "cell_type": "code",
   "execution_count": null,
   "metadata": {},
   "outputs": [],
   "source": []
  },
  {
   "cell_type": "code",
   "execution_count": null,
   "metadata": {},
   "outputs": [],
   "source": []
  },
  {
   "cell_type": "markdown",
   "metadata": {},
   "source": [
    "# initialize your variable to None\n",
    "lat_lng_coords = None\n",
    "\n",
    "# loop until you get the coordinates\n",
    "while(lat_lng_coords is None):\n",
    "  g = geocoder.google('{}, Toronto, Ontario'.format(postal_code))\n",
    "  lat_lng_coords = g.latlng\n",
    "\n",
    "latitude = lat_lng_coords[0]\n",
    "longitude = lat_lng_coords[1]"
   ]
  }
 ],
 "metadata": {
  "kernelspec": {
   "display_name": "Python 3",
   "language": "python",
   "name": "python3"
  },
  "language_info": {
   "codemirror_mode": {
    "name": "ipython",
    "version": 3
   },
   "file_extension": ".py",
   "mimetype": "text/x-python",
   "name": "python",
   "nbconvert_exporter": "python",
   "pygments_lexer": "ipython3",
   "version": "3.7.6"
  }
 },
 "nbformat": 4,
 "nbformat_minor": 4
}
